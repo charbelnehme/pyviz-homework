{
 "cells": [
  {
   "cell_type": "code",
   "execution_count": 3,
   "id": "65f5147e-e36c-413b-a472-4a88895cde0a",
   "metadata": {},
   "outputs": [
    {
     "name": "stderr",
     "output_type": "stream",
     "text": [
      "WARNING:param.panel_extension: A HoloViz extension was loaded previously. This means the extension is already initialized and the following Panel extensions could not be properly loaded: ['plotly']. If you are loading custom extensions with pn.extension(...) ensure that this is called before any other HoloViz extension such as hvPlot or HoloViews.\n"
     ]
    }
   ],
   "source": [
    "# Imports\n",
    "import panel as pn\n",
    "pn.extension('plotly')\n",
    "import plotly.express as px\n",
    "import pandas as pd\n",
    "import hvplot.pandas\n",
    "import matplotlib.pyplot as plt\n",
    "import os\n",
    "from pathlib import Path\n",
    "from dotenv import load_dotenv"
   ]
  },
  {
   "cell_type": "code",
   "execution_count": 4,
   "id": "005c66a0-9ef6-49ce-855b-f9adb901be82",
   "metadata": {},
   "outputs": [],
   "source": [
    "# Read the Mapbox API key\n",
    "load_dotenv()\n",
    "map_box_api = os.getenv(\"mapbox\")\n",
    "px.set_mapbox_access_token(map_box_api)"
   ]
  },
  {
   "cell_type": "code",
   "execution_count": 5,
   "id": "090bbae6-7bfa-4297-abb0-c2c9278b393a",
   "metadata": {},
   "outputs": [],
   "source": [
    "# Import the CSVs to Pandas DataFrames\n",
    "file_path = Path(\"Data/toronto_neighbourhoods_census_data.csv\")\n",
    "to_data = pd.read_csv(file_path, index_col=\"year\")\n",
    "\n",
    "file_path = Path(\"Data/toronto_neighbourhoods_coordinates.csv\")\n",
    "df_neighbourhood_locations = pd.read_csv(file_path)"
   ]
  },
  {
   "cell_type": "code",
   "execution_count": null,
   "id": "3b62cff0-4979-4ce5-985a-7a93393e8a9a",
   "metadata": {},
   "outputs": [],
   "source": [
    "# Define Panel Visualization Functions\n",
    "def housing_units_per_year():\n",
    "    \"\"\"Housing Units Per Year.\"\"\"\n",
    "\n",
    "    \n",
    "    housing_units = sf_data[\"housing_units\"]\n",
    "    housing_units = housing_units.groupby([sf_data.index]).mean()\n",
    "    \n",
    "    housing_units_fig = plt.figure()\n",
    "    housing_units_plot = housing_units.plot.bar(x='year', ylim=[370000, 385000], title=\"Average Number of Housing Units Sold per Year\")\n",
    "    plt.close(housing_units_fig)\n",
    "    \n",
    "    return pn.pane.Matplotlib(housing_units_fig) "
   ]
  },
  {
   "cell_type": "code",
   "execution_count": null,
   "id": "73f53d38-5a87-47eb-bfc0-301d9b44c634",
   "metadata": {},
   "outputs": [],
   "source": [
    "def average_gross_rent():  \n",
    "    \"\"\"Average Gross Rent in San Francisco Per Year.\"\"\"\n",
    "    \n",
    "\n",
    "    \n",
    "    average_rent_sqr_foot = sf_data[\"gross_rent\"].groupby([sf_data.index]).mean()\n",
    "    \n",
    "    gross_rent_fig = plt.figure()\n",
    "    average_rent_plot = (average_rent_sqr_foot.plot.line(x='year', y='gross_rent', title=\"Average Goss Rent per Year\"))\n",
    "    plt.close(gross_rent_fig)\n",
    "    \n",
    "    return pn.pane.Matplotlib(gross_rent_fig)"
   ]
  },
  {
   "cell_type": "code",
   "execution_count": null,
   "id": "1548a144-9ba2-4386-9b7b-f41342e3d065",
   "metadata": {},
   "outputs": [],
   "source": [
    "def average_sales_price():\n",
    "    \"\"\"Average Sales Price Per Year.\"\"\"\n",
    "    \n",
    "    average_price_sqr_foot = sf_data[\"sale_price_sqr_foot\"].groupby([sf_data.index]).mean()\n",
    "    sales_price_fig = plt.figure()\n",
    "    average_price_plot = (average_price_sqr_foot.plot.line(x='year', y='sale_price_sqr_foot', title=\"Average Sales Price per Year\"))\n",
    "    plt.close(sales_price_fig)\n",
    "    \n",
    "    return pn.pane.Matplotlib(sales_price_fig)"
   ]
  },
  {
   "cell_type": "code",
   "execution_count": null,
   "id": "57300c5b-be51-4a5d-9d16-0b9feb773fc6",
   "metadata": {},
   "outputs": [],
   "source": [
    "def average_price_by_neighborhood(neighborhood):\n",
    "    \"\"\"Average Prices by Neighborhood.\"\"\"\n",
    "    \n",
    "    sf_data_new = sf_data.groupby([sf_data.index, \"neighborhood\"]).mean()\n",
    "    sfo_sales = sf_data_new[\"sale_price_sqr_foot\"]\n",
    "    sfo_sales_df = pd.DataFrame(sfo_sales).reset_index()\n",
    "     \n",
    "    \n",
    "    return sfo_sales_df.loc[sfo_sales_df['neighborhood']==neighborhood,:].hvplot.line(\n",
    "        x=\"year\",\n",
    "        y=\"sale_price_sqr_foot\",\n",
    "        colormap=\"coolwarm\",\n",
    "        title=\"SF Sale per Square foot per Year\",\n",
    "    )\n",
    "\n",
    "sf_data_new = sf_data.groupby([sf_data.index, \"neighborhood\"]).mean()\n",
    "sfo_sales = sf_data_new[\"sale_price_sqr_foot\"]\n",
    "sfo_sales_df = pd.DataFrame(sfo_sales).reset_index()\n",
    "neighborhood_choice = sfo_sales_df[\"neighborhood\"].unique()\n",
    "interact(average_price_by_neighborhood, neighborhood=neighborhood_choice)"
   ]
  },
  {
   "cell_type": "code",
   "execution_count": null,
   "id": "550524f8-d3a5-4a38-92a7-e836dd41b604",
   "metadata": {},
   "outputs": [],
   "source": [
    "def top_most_expensive_neighborhoods():\n",
    "    \"\"\"Top 10 Most Expensive Neighborhoods.\"\"\"\n",
    "    \n",
    "    avg_value_per_neighborhood = sf_data.groupby([sf_data[\"neighborhood\"]]).mean()\n",
    "    avg_value_per_neighborhood = avg_value_per_neighborhood.reset_index()\n",
    "    top_10_most_expensive = avg_value_per_neighborhood.nlargest(10, 'sale_price_sqr_foot').reset_index()\n",
    "    top10_plot = px.bar(top_10_most_expensive,\n",
    "    x=\"neighborhood\", \n",
    "    y=\"sale_price_sqr_foot\", \n",
    "    title=\"Top 10 Most Expensive Neighborhoods in San Francisco\", \n",
    "    )\n",
    "\n",
    "    return top10_plot"
   ]
  },
  {
   "cell_type": "code",
   "execution_count": null,
   "id": "fb9952a2-1ddd-46d8-8353-a35ba4da3df2",
   "metadata": {},
   "outputs": [],
   "source": [
    "def parallel_coordinates():\n",
    "    \"\"\"Parallel Coordinates Plot.\"\"\"\n",
    "    \n",
    "    avg_value_per_neighborhood = sf_data.groupby([sf_data[\"neighborhood\"]]).mean()    \n",
    "    top_10_most_expensive = avg_value_per_neighborhood.nlargest(10, 'sale_price_sqr_foot').reset_index()\n",
    "    top_10_parallel = px.parallel_coordinates(\n",
    "    top_10_most_expensive, \n",
    "    color='sale_price_sqr_foot')\n",
    "\n",
    "    return top_10_parallel"
   ]
  },
  {
   "cell_type": "code",
   "execution_count": null,
   "id": "ae47932a-42b0-4f0d-9b16-a3112fb11c66",
   "metadata": {},
   "outputs": [],
   "source": [
    "def parallel_categories():\n",
    "    \"\"\"Parallel Categories Plot.\"\"\"\n",
    "    \n",
    "    avg_value_per_neighborhood = sf_data.groupby([sf_data[\"neighborhood\"]]).mean()  \n",
    "    top_10_ex_neighborhood = avg_value_per_neighborhood.nlargest(10, 'sale_price_sqr_foot').reset_index()\n",
    "    top_10_parallel_categories = px.parallel_categories(\n",
    "    top_10_ex_neighborhood,\n",
    "    dimensions=[\"neighborhood\", \"sale_price_sqr_foot\", \"housing_units\", \"gross_rent\"],\n",
    "    color=\"sale_price_sqr_foot\",\n",
    "    color_continuous_scale=px.colors.sequential.Inferno,\n",
    ")\n",
    "\n",
    "    return top_10_parallel_categories"
   ]
  },
  {
   "cell_type": "code",
   "execution_count": null,
   "id": "865a7110-281f-4d37-ba6a-2f98350b302b",
   "metadata": {},
   "outputs": [],
   "source": [
    "def parallel_categories():\n",
    "    \"\"\"Parallel Categories Plot.\"\"\"\n",
    "    \n",
    "    avg_value_per_neighborhood = sf_data.groupby([sf_data[\"neighborhood\"]]).mean()  \n",
    "    top_10_ex_neighborhood = avg_value_per_neighborhood.nlargest(10, 'sale_price_sqr_foot').reset_index()\n",
    "    top_10_parallel_categories = px.parallel_categories(\n",
    "    top_10_ex_neighborhood,\n",
    "    dimensions=[\"neighborhood\", \"sale_price_sqr_foot\", \"housing_units\", \"gross_rent\"],\n",
    "    color=\"sale_price_sqr_foot\",\n",
    "    color_continuous_scale=px.colors.sequential.Inferno,\n",
    ")\n",
    "\n",
    "    return top_10_parallel_categories"
   ]
  },
  {
   "cell_type": "code",
   "execution_count": null,
   "id": "13edaeae-a8bc-4afa-b79c-656b95890506",
   "metadata": {},
   "outputs": [],
   "source": [
    "title = '#Real Estate Analysis of San Francisco from 2010-2016'\n",
    "welcome_tab = pn.Row(pn.Column(title), neighborhood_map())\n",
    "\n",
    "market_analysis_row = pn.Row(housing_units_per_year(), average_gross_rent(), average_sales_price())\n",
    "\n",
    "\n",
    "neighborhood_analysis_tab = pn.Column(interact(average_price_by_neighborhood, neighborhood=neighborhood_choice),\n",
    "    top_most_expensive_neighborhoods()\n",
    ")\n",
    "\n",
    "parallel_plots_tab = pn.Column( \n",
    "    parallel_categories(),\n",
    "    parallel_coordinates()\n",
    ")\n",
    "\n",
    "\n",
    "# Create tabs\n",
    "\n",
    "SF_dashboard = pn.Tabs((\"Welcome\", welcome_tab), \n",
    "(\"Yearly Market Analysis\", market_analysis_row),\n",
    "(\"Neighborhood Analysis\", neighborhood_analysis_tab), \n",
    "(\"Interactive Market Analysis by Neighborhood\", parallel_plots_tab))"
   ]
  }
 ],
 "metadata": {
  "kernelspec": {
   "display_name": "Python [conda env:pyvizenv]",
   "language": "python",
   "name": "conda-env-pyvizenv-py"
  },
  "language_info": {
   "codemirror_mode": {
    "name": "ipython",
    "version": 3
   },
   "file_extension": ".py",
   "mimetype": "text/x-python",
   "name": "python",
   "nbconvert_exporter": "python",
   "pygments_lexer": "ipython3",
   "version": "3.7.11"
  }
 },
 "nbformat": 4,
 "nbformat_minor": 5
}
